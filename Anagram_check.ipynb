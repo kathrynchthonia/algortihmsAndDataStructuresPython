{
 "cells": [
  {
   "cell_type": "markdown",
   "metadata": {
    "collapsed": true
   },
   "source": [
    "# Anagram Check\n"
   ]
  },
  {
   "cell_type": "code",
   "execution_count": 1,
   "metadata": {},
   "outputs": [],
   "source": [
    "def anagram(str1, str2):\n",
    "    str1.replace(' ', '').lower()\n",
    "    str2.replace(' ', '').lower()\n",
    "    return sorted(str1) == sorted(str2)\n"
   ]
  },
  {
   "cell_type": "code",
   "execution_count": 2,
   "metadata": {},
   "outputs": [
    {
     "data": {
      "text/plain": [
       "True"
      ]
     },
     "execution_count": 2,
     "metadata": {},
     "output_type": "execute_result"
    }
   ],
   "source": [
    "str1 = 'ewok'\n",
    "str2 = 'woke'\n",
    "anagram(str1, str2)"
   ]
  },
  {
   "cell_type": "code",
   "execution_count": 13,
   "metadata": {},
   "outputs": [],
   "source": [
    "def ag2(str1, str2):\n",
    "    str1.replace(' ', '').lower()\n",
    "    str2.replace(' ', '').lower()\n",
    "    # Edge case\n",
    "    if len(str1) != len(str2):\n",
    "        return False\n",
    "    vals = {}\n",
    "    \n",
    "    for letter in str1:\n",
    "        if letter in vals:\n",
    "            vals[letter] += 1\n",
    "        else:\n",
    "            vals[letter] = 1\n",
    "    \n",
    "    for letter in str2:\n",
    "        if letter in vals:\n",
    "            vals[letter] -= 1\n",
    "        else:\n",
    "            vals[letter] = 1\n",
    "    \n",
    "    for letter in vals:\n",
    "        if vals[letter] != 0:\n",
    "            return False\n",
    "    return True"
   ]
  },
  {
   "cell_type": "code",
   "execution_count": 14,
   "metadata": {},
   "outputs": [
    {
     "data": {
      "text/plain": [
       "True"
      ]
     },
     "execution_count": 14,
     "metadata": {},
     "output_type": "execute_result"
    }
   ],
   "source": [
    "str1 = 'ewok'\n",
    "str2 = 'woke'\n",
    "ag2(str1, str2)"
   ]
  },
  {
   "cell_type": "code",
   "execution_count": null,
   "metadata": {},
   "outputs": [],
   "source": []
  }
 ],
 "metadata": {
  "kernelspec": {
   "display_name": "Python 3",
   "language": "python",
   "name": "python3"
  },
  "language_info": {
   "codemirror_mode": {
    "name": "ipython",
    "version": 3
   },
   "file_extension": ".py",
   "mimetype": "text/x-python",
   "name": "python",
   "nbconvert_exporter": "python",
   "pygments_lexer": "ipython3",
   "version": "3.7.3"
  }
 },
 "nbformat": 4,
 "nbformat_minor": 1
}
